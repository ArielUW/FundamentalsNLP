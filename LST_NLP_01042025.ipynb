{
  "nbformat": 4,
  "nbformat_minor": 0,
  "metadata": {
    "colab": {
      "provenance": [],
      "toc_visible": true,
      "include_colab_link": true
    },
    "kernelspec": {
      "name": "python3",
      "display_name": "Python 3"
    },
    "language_info": {
      "name": "python"
    }
  },
  "cells": [
    {
      "cell_type": "markdown",
      "metadata": {
        "id": "view-in-github",
        "colab_type": "text"
      },
      "source": [
        "<a href=\"https://colab.research.google.com/github/ArielUW/FundamentalsNLP/blob/main/LST_NLP_01042025.ipynb\" target=\"_parent\"><img src=\"https://colab.research.google.com/assets/colab-badge.svg\" alt=\"Open In Colab\"/></a>"
      ]
    },
    {
      "cell_type": "markdown",
      "source": [
        "#NER CUSTOM MODEL"
      ],
      "metadata": {
        "id": "ZlIx0W5YKK6d"
      }
    },
    {
      "cell_type": "markdown",
      "source": [
        "##imports"
      ],
      "metadata": {
        "id": "DAAusqetKOJa"
      }
    },
    {
      "cell_type": "code",
      "source": [
        "import spacy\n",
        "from spacy.tokens import DocBin\n",
        "from tqdm import tqdm\n",
        "import json\n",
        "import pandas as pd\n",
        "from spacy import displacy\n",
        "from pathlib import Path\n",
        "from multiprocessing import Pool"
      ],
      "metadata": {
        "id": "eAjL79c9KQE1"
      },
      "execution_count": null,
      "outputs": []
    },
    {
      "cell_type": "markdown",
      "source": [
        "##annotations processing"
      ],
      "metadata": {
        "id": "uw3ZHYBFKSdX"
      }
    },
    {
      "cell_type": "code",
      "execution_count": null,
      "metadata": {
        "id": "aZxxXKIWGltu"
      },
      "outputs": [],
      "source": [
        "with open('/content/annotations(18).json', 'r', encoding='utf-8') as file:\n",
        "    data_to_transform = json.load(file)\n",
        "\n",
        "\n",
        "def transform_data(data):\n",
        "    transformed_data = []\n",
        "    for record in data['annotations']:\n",
        "        if record and isinstance(record, list) and len(record) == 2:\n",
        "            text, entity_data = record\n",
        "            if 'entities' in entity_data:\n",
        "                entities = entity_data[\"entities\"]\n",
        "                transformed_entities = []\n",
        "\n",
        "                for entity in entities:\n",
        "                    start, end, label = entity\n",
        "                    transformed_entities.append([start, end, label])\n",
        "\n",
        "                transformed_data.append([text, {\"entities\": transformed_entities}])\n",
        "            else:\n",
        "                print(f'Pominięto rekord bez \"entities\": {record}')\n",
        "        else:\n",
        "            print(f'Pominięto nieprawidłowy rekord: {record}')\n",
        "    return transformed_data\n",
        "\n",
        "transformed_annotations = transform_data(data_to_transform)\n",
        "\n",
        "output_file_path = '/content/data_transformed.json'\n",
        "with open(output_file_path, 'w', encoding='utf-8') as file:\n",
        "    json.dump(transformed_annotations, file, ensure_ascii=False, indent=4)\n",
        "\n",
        "print(f'Transformacja zakończona. Wynik zapisano w pliku: {output_file_path}')\n",
        "\n",
        "cv_data = json.load(open('/content/data_transformed.json','r'))\n",
        "\n"
      ]
    },
    {
      "cell_type": "markdown",
      "source": [
        "##configuration files"
      ],
      "metadata": {
        "id": "pmd_iUehKW3V"
      }
    },
    {
      "cell_type": "code",
      "source": [
        "#config template: https://spacy.io/usage/training"
      ],
      "metadata": {
        "id": "LyUtEBfCK_Sm"
      },
      "execution_count": null,
      "outputs": []
    },
    {
      "cell_type": "code",
      "source": [
        "!python -m spacy init fill-config /content/base_config.cfg /content/config.cfg"
      ],
      "metadata": {
        "colab": {
          "base_uri": "https://localhost:8080/"
        },
        "id": "uI-_bE8aHzmE",
        "outputId": "641b2ac5-5532-49b1-dd9a-c70721298181"
      },
      "execution_count": null,
      "outputs": [
        {
          "output_type": "stream",
          "name": "stdout",
          "text": [
            "\u001b[38;5;2m✔ Auto-filled config with all values\u001b[0m\n",
            "\u001b[38;5;2m✔ Saved config\u001b[0m\n",
            "/content/config.cfg\n",
            "You can now add your data and train your pipeline:\n",
            "python -m spacy train config.cfg --paths.train ./train.spacy --paths.dev ./dev.spacy\n"
          ]
        }
      ]
    },
    {
      "cell_type": "markdown",
      "source": [
        "##prep for training function"
      ],
      "metadata": {
        "id": "NeMY8jBbKjhI"
      }
    },
    {
      "cell_type": "code",
      "source": [
        "def get_spacy_doc(file, data):\n",
        "  nlp = spacy.blank('en')\n",
        "  db = DocBin()\n",
        "  for text, annot in tqdm(data):\n",
        "    doc = nlp.make_doc(text)\n",
        "    annot = annot['entities']\n",
        "\n",
        "    ents = []\n",
        "    entity_indices = []\n",
        "    for start, end, label in annot:\n",
        "      skip_entity = False\n",
        "      for idx in range(start, end):\n",
        "        if idx in entity_indices:\n",
        "          skip_entity = True\n",
        "          break\n",
        "      if skip_entity:\n",
        "        continue\n",
        "\n",
        "      entity_indices = entity_indices + list(range(start, end))\n",
        "      try:\n",
        "        span = doc.char_span(start, end, label=label, alignment_mode='strict')\n",
        "      except:\n",
        "        continue\n",
        "\n",
        "      if span is None:\n",
        "        err_data = str([start, end]) + \"    \" + str(text) + \"\\n\"\n",
        "        file.write(err_data)\n",
        "      else:\n",
        "        ents.append(span)\n",
        "\n",
        "    try:\n",
        "      doc.ents = ents\n",
        "      db.add(doc)\n",
        "    except:\n",
        "      pass\n",
        "\n",
        "  return db"
      ],
      "metadata": {
        "id": "pnR5S36FIQF5"
      },
      "execution_count": null,
      "outputs": []
    },
    {
      "cell_type": "markdown",
      "source": [
        "##train/test split"
      ],
      "metadata": {
        "id": "6870h2d3KnS9"
      }
    },
    {
      "cell_type": "code",
      "source": [
        "from sklearn.model_selection import train_test_split\n",
        "train, test = train_test_split(cv_data, test_size=0.2)\n",
        "\n",
        "len(train), len(test)\n",
        "file = open('/content/train_file.txt','w')\n",
        "db = get_spacy_doc(file, train)\n",
        "db.to_disk('/content/train_data.spacy')\n",
        "db = get_spacy_doc(file, test)\n",
        "db.to_disk('/content/test_data.spacy')\n",
        "file.close()"
      ],
      "metadata": {
        "colab": {
          "base_uri": "https://localhost:8080/"
        },
        "id": "SVeH2S4gIarR",
        "outputId": "761e454f-90f8-4fad-8d84-89c9b758e430"
      },
      "execution_count": null,
      "outputs": [
        {
          "output_type": "stream",
          "name": "stderr",
          "text": [
            "100%|██████████| 7/7 [00:00<00:00, 528.00it/s]\n",
            "100%|██████████| 2/2 [00:00<00:00, 389.66it/s]\n"
          ]
        }
      ]
    },
    {
      "cell_type": "markdown",
      "source": [
        "##training procedure"
      ],
      "metadata": {
        "id": "gSEJL8zcKqO-"
      }
    },
    {
      "cell_type": "code",
      "source": [
        "!python -m spacy train /content/config.cfg  --output /content/output  --paths.train /content/train_data.spacy  --paths.dev /content/test_data.spacy\n"
      ],
      "metadata": {
        "id": "WzLGx4vgIeYq"
      },
      "execution_count": null,
      "outputs": []
    },
    {
      "cell_type": "markdown",
      "source": [],
      "metadata": {
        "id": "bjQoR-jBP876"
      }
    },
    {
      "cell_type": "markdown",
      "source": [
        "##implementation"
      ],
      "metadata": {
        "id": "ySQWbab9Ksm4"
      }
    },
    {
      "cell_type": "code",
      "source": [
        "nlp = spacy.load('/content/output/model-best')"
      ],
      "metadata": {
        "id": "RxhpwyQWLPXu"
      },
      "execution_count": null,
      "outputs": []
    },
    {
      "cell_type": "code",
      "source": [
        "text = \"Fetting, Constanze. 'The European green deal.' ESDN Report, December 2.9 (2020): 53.\""
      ],
      "metadata": {
        "id": "GSF9P7TAPmcl"
      },
      "execution_count": null,
      "outputs": []
    },
    {
      "cell_type": "code",
      "source": [
        "doc = nlp(text)"
      ],
      "metadata": {
        "id": "sHaSFvzcdrpc"
      },
      "execution_count": null,
      "outputs": []
    },
    {
      "cell_type": "code",
      "source": [
        "for ent in doc.ents:\n",
        "  print(ent.text, ent.label_)"
      ],
      "metadata": {
        "colab": {
          "base_uri": "https://localhost:8080/"
        },
        "id": "w4lH96V4dtoX",
        "outputId": "cd0f219b-8d35-42aa-cfd2-54c53e21cb8d"
      },
      "execution_count": null,
      "outputs": [
        {
          "output_type": "stream",
          "name": "stdout",
          "text": [
            "Fetting, Constanze AUTHOR\n",
            "2020 DATE\n"
          ]
        }
      ]
    }
  ]
}